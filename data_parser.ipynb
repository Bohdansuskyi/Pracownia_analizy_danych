{
 "cells": [
  {
   "cell_type": "markdown",
   "id": "28ba6f19",
   "metadata": {},
   "source": [
    "Plik excell dotyczący śmiertelnych wypadków drogowych pobiera się ze strony https://www.kaggle.com/datasets/abdulmannann/road-accidents-csv?select=Road+Accident+Data.xlsx\n",
    "Następnie jest konwertowany w obiekty DataFrame z biblioteki Pandas.\n",
    "\n",
    "Kod z automatyzowanym procesem poniżej"
   ]
  },
  {
   "cell_type": "code",
   "execution_count": null,
   "id": "741f7f2a",
   "metadata": {},
   "outputs": [],
   "source": [
    "import os\n",
    "import kagglehub\n",
    "import pandas as pd"
   ]
  },
  {
   "cell_type": "code",
   "execution_count": null,
   "id": "7c34bb46",
   "metadata": {},
   "outputs": [],
   "source": [
    "path = kagglehub.dataset_download(\"abdulmannann/road-accidents-csv\")\n",
    "\n",
    "print(\"Path to dataset files:\", path)\n",
    "file_path = os.path.join(path, \"Road Accident Data.xlsx\")\n",
    "df = pd.read_excel(file_path)"
   ]
  },
  {
   "cell_type": "code",
   "execution_count": null,
   "id": "0f3949fa",
   "metadata": {},
   "outputs": [],
   "source": [
    "df"
   ]
  }
 ],
 "metadata": {
  "kernelspec": {
   "display_name": ".venv",
   "language": "python",
   "name": "python3"
  },
  "language_info": {
   "codemirror_mode": {
    "name": "ipython",
    "version": 3
   },
   "file_extension": ".py",
   "mimetype": "text/x-python",
   "name": "python",
   "nbconvert_exporter": "python",
   "pygments_lexer": "ipython3",
   "version": "3.12.3"
  }
 },
 "nbformat": 4,
 "nbformat_minor": 5
}
